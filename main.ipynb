{
 "cells": [
  {
   "cell_type": "markdown",
   "metadata": {},
   "source": [
    "#### Defining Stdent Class with name, age, id and grade"
   ]
  },
  {
   "cell_type": "code",
   "execution_count": 45,
   "metadata": {},
   "outputs": [],
   "source": [
    "class Student():\n",
    "    def __init__(self, student_Id, name, age, grade):\n",
    "        self.student_Id = student_Id\n",
    "        self.name = name\n",
    "        self.age = age\n",
    "        self.grade = grade\n",
    "\n",
    "# function that prints student info\n",
    "    def __str__(self):\n",
    "        return f\"Student Id:{self.student_Id}, Name:{self.name}, Age:{self.age}, Grade:{self.grade} \""
   ]
  },
  {
   "cell_type": "code",
   "execution_count": 49,
   "metadata": {},
   "outputs": [],
   "source": [
    "import csv\n",
    "\n",
    "# Load the csv file\n",
    "def load_students():\n",
    "    global Students\n",
    "    Students.clear() # Clear the list before loading the file\n",
    "\n",
    "    try:\n",
    "        with open(\"Students_Record.csv\", \"r\") as file:\n",
    "            reader = csv.reader(file)\n",
    "            next(reader)  # Skip the header row\n",
    "            for row in reader:\n",
    "                if row:  # Ensure it's not an empty line\n",
    "                    student = Student(row[0], row[1], row[2], row[3])\n",
    "                    Students.append(student)\n",
    "    except FileNotFoundError:\n",
    "        print(\"No previous student records found. Starting fresh.\")\n",
    "\n"
   ]
  },
  {
   "cell_type": "markdown",
   "metadata": {},
   "source": [
    "#### Adding and Viewing Student"
   ]
  },
  {
   "cell_type": "code",
   "execution_count": 55,
   "metadata": {},
   "outputs": [],
   "source": [
    "import pandas as pd\n",
    "Students = []\n",
    "def addStudent(student_Id, name, age, grade):\n",
    "    student_Id = str(student_Id)\n",
    "    load_students()\n",
    "    # check if student already exists\n",
    "    for student in Students:\n",
    "        if student.student_Id == student_Id:\n",
    "            print(f\"Student with ID {student_Id} already exists\")\n",
    "            return\n",
    "    \n",
    "    # if student does not exist, lets add student\n",
    "    # make instance of the Student class\n",
    "    student = Student(student_Id, name, age, grade)\n",
    "    # add student to the list\n",
    "    Students.append(student)\n",
    "    print(f\"Student {name} successfully Added\")\n",
    "    saveStudent()\n",
    "    print(Students)\n",
    "\n",
    "def viewStudent():\n",
    "    if not Students:\n",
    "        print(\"No Student record found\")\n",
    "    else:\n",
    "        for student in Students:\n",
    "            print(student)\n",
    "    \n",
    "def saveStudent():\n",
    "    # save students in a dataframe\n",
    "    data = [{'student_Id' : s.student_Id, 'Name': s.name, 'Age': s.age, 'Grade': s.grade} for s in Students]\n",
    "    df = pd.DataFrame(data)\n",
    "    df.to_csv(\"Students_Record.csv\", index= False)\n",
    "    \n"
   ]
  },
  {
   "cell_type": "markdown",
   "metadata": {},
   "source": [
    "#### Deleting and updating students"
   ]
  },
  {
   "cell_type": "code",
   "execution_count": 56,
   "metadata": {},
   "outputs": [],
   "source": [
    "def updateStudent(student_Id):\n",
    "    for student in Students:\n",
    "        if student_Id == student_Id:\n",
    "            print(\"What do you want to update\")\n",
    "            print(\"1. Name\")\n",
    "            print('2. Age')\n",
    "            print('3. Grade')\n",
    "            print('4. Exit')\n",
    "            choice = input(\"Enter your choice:\")    \n",
    "        if choice == '1':\n",
    "            student.name = input(\"Enter new name\")\n",
    "        elif choice == '2':\n",
    "            student.age = input(\"Enter new Age\")\n",
    "        elif choice == '3':\n",
    "            student.grade = input(\"Enter new grade\")\n",
    "        elif choice == '4':\n",
    "            break\n",
    "        else:\n",
    "            print(\"Invalid choice\")\n",
    "    saveStudent()\n",
    "    return \"Student updated Successfully\"\n",
    "        \n",
    "       "
   ]
  },
  {
   "cell_type": "code",
   "execution_count": 52,
   "metadata": {},
   "outputs": [],
   "source": [
    "def deleteStudent(student_Id):\n",
    "    # check for student using enum function \n",
    "    for i, student in enumerate(Students):\n",
    "        if student.student_Id == student_Id:\n",
    "            del Students[i]\n",
    "            saveStudent()\n",
    "            return 'Student Deleted successfully'\n",
    "        \n",
    "    return 'Student Not Found'\n"
   ]
  },
  {
   "cell_type": "markdown",
   "metadata": {},
   "source": [
    "### searching student"
   ]
  },
  {
   "cell_type": "code",
   "execution_count": 53,
   "metadata": {},
   "outputs": [],
   "source": [
    "def searchStudent(student_Id):\n",
    "    for student in Students:\n",
    "        if student.student_Id == student_Id:\n",
    "            return student\n",
    "    return \"student not found\""
   ]
  },
  {
   "cell_type": "markdown",
   "metadata": {},
   "source": [
    "## MAIN PROGRAM"
   ]
  },
  {
   "cell_type": "code",
   "execution_count": 58,
   "metadata": {},
   "outputs": [
    {
     "name": "stdout",
     "output_type": "stream",
     "text": [
      "Welcome to School Management System\n",
      "1. Add Student\n",
      "2. View Student\n",
      "3. Update Student\n",
      "4. Delete Student\n",
      "5. Search Student\n",
      "6. Exit\n",
      "student not found\n",
      "Welcome to School Management System\n",
      "1. Add Student\n",
      "2. View Student\n",
      "3. Update Student\n",
      "4. Delete Student\n",
      "5. Search Student\n",
      "6. Exit\n",
      "Student Id:NA002, Name:Fatima Ibrahim, Age:23, Grade:77 \n",
      "Welcome to School Management System\n",
      "1. Add Student\n",
      "2. View Student\n",
      "3. Update Student\n",
      "4. Delete Student\n",
      "5. Search Student\n",
      "6. Exit\n"
     ]
    }
   ],
   "source": [
    "load_students()\n",
    "while True:\n",
    "    print(\"Welcome to School Management System\")\n",
    "    print(\"1. Add Student\")\n",
    "    print(\"2. View Student\")\n",
    "    print(\"3. Update Student\")\n",
    "    print(\"4. Delete Student\")\n",
    "    print(\"5. Search Student\")\n",
    "    print(\"6. Exit\")\n",
    "\n",
    "    choice = input(\"Enter your choice:\")\n",
    "\n",
    "    if choice == '1':\n",
    "        student_Id  = input(\"Enter student id\")\n",
    "        Name = input(\"Enter name:\")\n",
    "        Age = input(\"Enter age:\")\n",
    "        Grade = input(\"Enter grade\")\n",
    "        addStudent(student_Id, Name, Age, Grade)\n",
    "    elif choice == '2':\n",
    "        viewStudent()\n",
    "    elif choice == '3':\n",
    "        student_Id = input(\"Enter Student you want to update\")\n",
    "        updateStudent(student_Id)\n",
    "    elif choice == '4':\n",
    "        student_Id = input(\"Enter student you want to delete\")\n",
    "        print(deleteStudent(student_Id))\n",
    "    elif choice == '5':\n",
    "        student_Id = input(\"Enter student you want to search\")\n",
    "        print(searchStudent(student_Id))\n",
    "    elif choice == '6':\n",
    "        break\n",
    "    else:\n",
    "        print(\"Invalid input! Enter number 1-6\")"
   ]
  },
  {
   "cell_type": "code",
   "execution_count": 4,
   "metadata": {},
   "outputs": [],
   "source": [
    "import csv\n",
    "def delete_all_students():\n",
    "    global Students  # Ensure we modify the global list\n",
    "    Students.clear()  # Clear the list\n",
    "    \n",
    "    # Overwrite the CSV file, keeping only the headers\n",
    "    with open(\"Students_Record.csv\", \"w\", newline=\"\") as file:\n",
    "        writer = csv.writer(file)\n",
    "        writer.writerow([\"ID\", \"Name\", \"Age\", \"Grade\"])\n",
    "    \n",
    "    print(\"All student records have been deleted successfully!\")\n"
   ]
  },
  {
   "cell_type": "code",
   "execution_count": 25,
   "metadata": {},
   "outputs": [
    {
     "name": "stdout",
     "output_type": "stream",
     "text": [
      "All student records have been deleted successfully!\n"
     ]
    }
   ],
   "source": [
    "delete_all_students()"
   ]
  }
 ],
 "metadata": {
  "kernelspec": {
   "display_name": "Python 3",
   "language": "python",
   "name": "python3"
  },
  "language_info": {
   "codemirror_mode": {
    "name": "ipython",
    "version": 3
   },
   "file_extension": ".py",
   "mimetype": "text/x-python",
   "name": "python",
   "nbconvert_exporter": "python",
   "pygments_lexer": "ipython3",
   "version": "3.12.4"
  }
 },
 "nbformat": 4,
 "nbformat_minor": 2
}
